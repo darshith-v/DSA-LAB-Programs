{
  "nbformat": 4,
  "nbformat_minor": 0,
  "metadata": {
    "colab": {
      "provenance": [],
      "authorship_tag": "ABX9TyOrTu3jNqLM3e14/q9y3J8v",
      "include_colab_link": true
    },
    "kernelspec": {
      "name": "python3",
      "display_name": "Python 3"
    },
    "language_info": {
      "name": "python"
    }
  },
  "cells": [
    {
      "cell_type": "markdown",
      "metadata": {
        "id": "view-in-github",
        "colab_type": "text"
      },
      "source": [
        "<a href=\"https://colab.research.google.com/github/darshith-v/DSA-LAB-Programs/blob/main/Rabin_Karp_Algorithm_.ipynb\" target=\"_parent\"><img src=\"https://colab.research.google.com/assets/colab-badge.svg\" alt=\"Open In Colab\"/></a>"
      ]
    },
    {
      "cell_type": "markdown",
      "source": [
        "###Rabin-Karp Algorithm Algorithm"
      ],
      "metadata": {
        "id": "qTSc453dQ8D6"
      }
    },
    {
      "cell_type": "code",
      "source": [
        "import time\n",
        "\n",
        "def naive_search(text, pattern):\n",
        "    n = len(text)\n",
        "    m = len(pattern)\n",
        "    for i in range(n - m + 1):\n",
        "        j = 0\n",
        "        while j < m and text[i + j] == pattern[j]:\n",
        "            j += 1\n",
        "        if j == m:\n",
        "            return i\n",
        "    return -1\n",
        "\n",
        "def rabin_karp_search(text, pattern):\n",
        "    n = len(text)\n",
        "    m = len(pattern)\n",
        "    if n < m:\n",
        "        return -1\n",
        "    d = 256\n",
        "    q = 101\n",
        "    h = pow(d, m - 1) % q\n",
        "    p = 0\n",
        "    t = 0\n",
        "    for i in range(m):\n",
        "        p = (d * p + ord(pattern[i])) % q\n",
        "        t = (d * t + ord(text[i])) % q\n",
        "    for i in range(n - m + 1):\n",
        "        if p == t:  # check if hash values match\n",
        "            j = 0\n",
        "            while j < m and text[i + j] == pattern[j]:\n",
        "                j += 1\n",
        "            if j == m:\n",
        "                return i\n",
        "        if i < n - m:  # calculate hash value for next window of text\n",
        "            t = (d * (t - ord(text[i]) * h) + ord(text[i + m])) % q\n",
        "            t = (t + q) % q  # make sure hash value is positive\n",
        "    return -1\n",
        "\n",
        "if __name__ == '__main__':\n",
        "    text = \"abababaabababaabababa\"\n",
        "    pattern = \"aba\"\n",
        "    print(\"Text:\", text)\n",
        "    print(\"Pattern:\", pattern)\n",
        "\n",
        "    start_time = time.time()\n",
        "    naive_index = naive_search(text, pattern)\n",
        "    naive_time = time.time() - start_time\n",
        "\n",
        "    start_time = time.time()\n"
      ],
      "metadata": {
        "colab": {
          "base_uri": "https://localhost:8080/"
        },
        "outputId": "4a066f9d-5b07-40fb-ee76-9dd49b9a5b2b",
        "id": "OFTw8wFaQ90F"
      },
      "execution_count": 1,
      "outputs": [
        {
          "output_type": "stream",
          "name": "stdout",
          "text": [
            "Text: abababaabababaabababa\n",
            "Pattern: aba\n"
          ]
        }
      ]
    }
  ]
}