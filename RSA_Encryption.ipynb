{
  "nbformat": 4,
  "nbformat_minor": 0,
  "metadata": {
    "colab": {
      "provenance": [],
      "authorship_tag": "ABX9TyMfSh4rBcV4niTgs75q1kDr",
      "include_colab_link": true
    },
    "kernelspec": {
      "name": "python3",
      "display_name": "Python 3"
    },
    "language_info": {
      "name": "python"
    }
  },
  "cells": [
    {
      "cell_type": "markdown",
      "metadata": {
        "id": "view-in-github",
        "colab_type": "text"
      },
      "source": [
        "<a href=\"https://colab.research.google.com/github/darshith-v/DSA-LAB-Programs/blob/main/RSA_Encrption.ipynb\" target=\"_parent\"><img src=\"https://colab.research.google.com/assets/colab-badge.svg\" alt=\"Open In Colab\"/></a>"
      ]
    },
    {
      "cell_type": "code",
      "execution_count": 1,
      "metadata": {
        "id": "U7SmH3VQQvY9",
        "colab": {
          "base_uri": "https://localhost:8080/"
        },
        "outputId": "3261df62-3333-4191-8a26-16175aa4b117"
      },
      "outputs": [
        {
          "output_type": "stream",
          "name": "stdout",
          "text": [
            "Public Key: (65537, 3189875137)\n",
            "Private Key: (700378073, 3189875137)\n"
          ]
        }
      ],
      "source": [
        "import random\n",
        "\n",
        "def generate_key_pair():\n",
        "    p = generate_prime_number()\n",
        "    q = generate_prime_number()\n",
        "    n = p * q\n",
        "    phi = (p - 1) * (q - 1)\n",
        "    e = 65537  # Commonly used public exponent\n",
        "    d = modular_inverse(e, phi)\n",
        "    return (e, n), (d, n)\n",
        "\n",
        "def generate_prime_number():\n",
        "    while True:\n",
        "        num = random.randint(2**15, 2**16)\n",
        "        if is_prime(num):\n",
        "            return num\n",
        "\n",
        "def is_prime(n):\n",
        "    if n < 2:\n",
        "        return False\n",
        "    for i in range(2, int(n**0.5) + 1):\n",
        "        if n % i == 0:\n",
        "            return False\n",
        "    return True\n",
        "\n",
        "def modular_inverse(a, m):\n",
        "    g, x, _ = extended_gcd(a, m)\n",
        "    if g != 1:\n",
        "        raise ValueError(\"Modular inverse does not exist\")\n",
        "    return x % m\n",
        "\n",
        "def extended_gcd(a, b):\n",
        "    if b == 0:\n",
        "        return a, 1, 0\n",
        "    g, x1, y1 = extended_gcd(b, a % b)\n",
        "    return g, y1, x1 - (a // b) * y1\n",
        "\n",
        "public_key, private_key = generate_key_pair()\n",
        "print(f\"Public Key: {public_key}\")\n",
        "print(f\"Private Key: {private_key}\")\n"
      ]
    }
  ]
}
