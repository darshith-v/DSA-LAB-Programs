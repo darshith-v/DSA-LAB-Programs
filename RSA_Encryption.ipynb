{
  "nbformat": 4,
  "nbformat_minor": 0,
  "metadata": {
    "colab": {
      "provenance": [],
      "authorship_tag": "ABX9TyPcc65oVA0dyJ33OaWQFtsx",
      "include_colab_link": true
    },
    "kernelspec": {
      "name": "python3",
      "display_name": "Python 3"
    },
    "language_info": {
      "name": "python"
    }
  },
  "cells": [
    {
      "cell_type": "markdown",
      "metadata": {
        "id": "view-in-github",
        "colab_type": "text"
      },
      "source": [
        "<a href=\"https://colab.research.google.com/github/darshith-v/DSA-LAB-Programs/blob/main/RSA_Encryption.ipynb\" target=\"_parent\"><img src=\"https://colab.research.google.com/assets/colab-badge.svg\" alt=\"Open In Colab\"/></a>"
      ]
    },
    {
      "cell_type": "code",
      "execution_count": 1,
      "metadata": {
        "colab": {
          "base_uri": "https://localhost:8080/"
        },
        "id": "F0ZGlMeXN6UC",
        "outputId": "06ec1e36-32cc-49e8-becf-fd7f74a69ee7"
      },
      "outputs": [
        {
          "output_type": "stream",
          "name": "stdout",
          "text": [
            "Public Key: (65537, 3112791571)\n",
            "Private Key: (1106348337, 3112791571)\n"
          ]
        }
      ],
      "source": [
        "import random\n",
        "\n",
        "def generate_key_pair():\n",
        "    p = generate_prime_number()\n",
        "    q = generate_prime_number()\n",
        "    n = p * q\n",
        "    phi = (p - 1) * (q - 1)\n",
        "    e = generate_public_exponent(phi)\n",
        "    d = modular_inverse(e, phi)\n",
        "    public_key = (e, n)\n",
        "    private_key = (d, n)\n",
        "    return public_key, private_key\n",
        "\n",
        "def generate_prime_number():\n",
        "    while True:\n",
        "        num = random.randint(2**15, 2**16)\n",
        "        if is_prime(num):\n",
        "            return num\n",
        "\n",
        "def is_prime(n):\n",
        "    if n <= 1:\n",
        "        return False\n",
        "    if n <= 3:\n",
        "        return True\n",
        "    if n % 2 == 0 or n % 3 == 0:\n",
        "        return False\n",
        "    i = 5\n",
        "    while i * i <= n:\n",
        "        if n % i == 0 or n % (i + 2) == 0:\n",
        "            return False\n",
        "        i += 6\n",
        "    return True\n",
        "\n",
        "def generate_public_exponent(phi):\n",
        "    e = 65537\n",
        "    while True:\n",
        "        if gcd(e, phi) == 1:\n",
        "            return e\n",
        "        e += 2\n",
        "\n",
        "def gcd(a, b):\n",
        "    while b != 0:\n",
        "        a, b = b, a % b\n",
        "    return a\n",
        "\n",
        "def modular_inverse(a, m):\n",
        "    g, x, y = extended_gcd(a, m)\n",
        "    if g != 1:\n",
        "        raise ValueError(\"Modular inverse does not exist\")\n",
        "    return x % m\n",
        "\n",
        "def extended_gcd(a, b):\n",
        "    if a == 0:\n",
        "        return b, 0, 1\n",
        "    g, x1, y1 = extended_gcd(b % a, a)\n",
        "    x = y1 - (b // a) * x1\n",
        "    y = x1\n",
        "    return g, x, y\n",
        "\n",
        "public_key, private_key = generate_key_pair()\n",
        "print(f\"Public Key: {public_key}\")\n",
        "print(f\"Private Key: {private_key}\")\n"
      ]
    },
    {
      "cell_type": "markdown",
      "source": [
        "###Rabin-Karp Algorithm Algorithm###"
      ],
      "metadata": {
        "id": "dJls5S5EO63t"
      }
    },
    {
      "cell_type": "code",
      "source": [
        "import time\n",
        "\n",
        "def naive_search(text, pattern):\n",
        "    n = len(text)\n",
        "    m = len(pattern)\n",
        "    for i in range(n - m + 1):\n",
        "        j = 0\n",
        "        while j < m and text[i + j] == pattern[j]:\n",
        "            j += 1\n",
        "        if j == m:\n",
        "            return i\n",
        "    return -1\n",
        "\n",
        "def rabin_karp_search(text, pattern):\n",
        "    n = len(text)\n",
        "    m = len(pattern)\n",
        "    if n < m:\n",
        "        return -1\n",
        "    d = 256\n",
        "    q = 101\n",
        "    h = pow(d, m - 1) % q\n",
        "    p = 0\n",
        "    t = 0\n",
        "    for i in range(m):\n",
        "        p = (d * p + ord(pattern[i])) % q\n",
        "        t = (d * t + ord(text[i])) % q\n",
        "    for i in range(n - m + 1):\n",
        "        if p == t:  # check if hash values match\n",
        "            j = 0\n",
        "            while j < m and text[i + j] == pattern[j]:\n",
        "                j += 1\n",
        "            if j == m:\n",
        "                return i\n",
        "        if i < n - m:  # calculate hash value for next window of text\n",
        "            t = (d * (t - ord(text[i]) * h) + ord(text[i + m])) % q\n",
        "            t = (t + q) % q  # make sure hash value is positive\n",
        "    return -1\n",
        "\n",
        "if __name__ == '__main__':\n",
        "    text = \"abababaabababaabababa\"\n",
        "    pattern = \"aba\"\n",
        "    print(\"Text:\", text)\n",
        "    print(\"Pattern:\", pattern)\n",
        "\n",
        "    start_time = time.time()\n",
        "    naive_index = naive_search(text, pattern)\n",
        "    naive_time = time.time() - start_time\n",
        "\n",
        "    start_time = time.time()\n"
      ],
      "metadata": {
        "colab": {
          "base_uri": "https://localhost:8080/"
        },
        "id": "EoWSxz1nO4DP",
        "outputId": "28ca67f3-f6cf-47bf-91e8-2f1ecfbc6712"
      },
      "execution_count": 2,
      "outputs": [
        {
          "output_type": "stream",
          "name": "stdout",
          "text": [
            "Text: abababaabababaabababa\n",
            "Pattern: aba\n"
          ]
        }
      ]
    }
  ]
}