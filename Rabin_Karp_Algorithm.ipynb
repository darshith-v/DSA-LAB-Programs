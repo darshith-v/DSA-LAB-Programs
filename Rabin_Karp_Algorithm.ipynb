{
  "nbformat": 4,
  "nbformat_minor": 0,
  "metadata": {
    "colab": {
      "provenance": [],
      "authorship_tag": "ABX9TyNyZQ+A1n9RLYqwI1WfZ211",
      "include_colab_link": true
    },
    "kernelspec": {
      "name": "python3",
      "display_name": "Python 3"
    },
    "language_info": {
      "name": "python"
    }
  },
  "cells": [
    {
      "cell_type": "markdown",
      "metadata": {
        "id": "view-in-github",
        "colab_type": "text"
      },
      "source": [
        "<a href=\"https://colab.research.google.com/github/darshith-v/DSA-LAB-Programs/blob/main/Rabin_Karp_Algorithm.ipynb\" target=\"_parent\"><img src=\"https://colab.research.google.com/assets/colab-badge.svg\" alt=\"Open In Colab\"/></a>"
      ]
    },
    {
      "cell_type": "code",
      "execution_count": 6,
      "metadata": {
        "colab": {
          "base_uri": "https://localhost:8080/"
        },
        "id": "BIp3sTokQtym",
        "outputId": "5c82121e-fb94-4438-ebcc-83207b810e18"
      },
      "outputs": [
        {
          "output_type": "stream",
          "name": "stdout",
          "text": [
            "Text: abababaabababaabababa\n",
            "Pattern: ba\n",
            "Naive approach: index = 1 time = 8.106231689453125e-06\n",
            "Rabin-Karp algorithm: index = 1 time = 1.239776611328125e-05\n",
            "Naive approach is faster\n"
          ]
        }
      ],
      "source": [
        "import time\n",
        "\n",
        "def naive_search(text, pattern):\n",
        "    for i in range(len(text) - len(pattern) + 1):\n",
        "        if text[i:i+len(pattern)] == pattern:\n",
        "            return i\n",
        "    return -1\n",
        "\n",
        "\n",
        "def rabin_karp_search(text, pattern):\n",
        "    n, m = len(text), len(pattern)\n",
        "    if n < m:\n",
        "        return -1\n",
        "\n",
        "    d, q = 256, 101\n",
        "    h = pow(d, m - 1, q)\n",
        "    p, t = 0, 0\n",
        "\n",
        "    for i in range(m):\n",
        "        p = (d * p + ord(pattern[i])) % q\n",
        "        t = (d * t + ord(text[i])) % q\n",
        "\n",
        "    for i in range(n - m + 1):\n",
        "        if p == t and text[i:i + m] == pattern:\n",
        "            return i\n",
        "        if i < n - m:\n",
        "            t = (d * (t - ord(text[i]) * h) + ord(text[i + m])) % q\n",
        "    return -1\n",
        "\n",
        "def run_search_algorithms(text, pattern):\n",
        "    start_time = time.time()\n",
        "    naive_index = naive_search(text, pattern)\n",
        "    naive_time = time.time() - start_time\n",
        "\n",
        "    start_time = time.time()\n",
        "    rk_index = rabin_karp_search(text, pattern)\n",
        "    rk_time = time.time() - start_time\n",
        "\n",
        "    print(\"Naive approach: index =\", naive_index, \"time =\", naive_time)\n",
        "    print(\"Rabin-Karp algorithm: index =\", rk_index, \"time =\", rk_time)\n",
        "\n",
        "    if rk_time < naive_time:\n",
        "        print(\"Rabin-Karp algorithm is faster\")\n",
        "    else:\n",
        "        print(\"Naive approach is faster\")\n",
        "\n",
        "if __name__ == '__main__':\n",
        "    text = \"abababaabababaabababa\"\n",
        "    pattern = \"ba\"\n",
        "    print(\"Text:\", text)\n",
        "    print(\"Pattern:\", pattern)\n",
        "    run_search_algorithms(text, pattern)"
      ]
    },
    {
      "cell_type": "code",
      "source": [],
      "metadata": {
        "id": "ysxahbgZXDWB"
      },
      "execution_count": null,
      "outputs": []
    }
  ]
}